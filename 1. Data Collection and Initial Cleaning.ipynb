{
 "cells": [
  {
   "cell_type": "markdown",
   "id": "engaged-pontiac",
   "metadata": {},
   "source": [
    "# Data Collection and Initial Cleaning"
   ]
  },
  {
   "cell_type": "code",
   "execution_count": 85,
   "id": "guided-certification",
   "metadata": {},
   "outputs": [],
   "source": [
    "import pandas as pd\n",
    "import os"
   ]
  },
  {
   "cell_type": "markdown",
   "id": "automatic-advocacy",
   "metadata": {},
   "source": [
    "## Load data\n",
    "### Loop through files in data directory"
   ]
  },
  {
   "cell_type": "code",
   "execution_count": 25,
   "id": "particular-alfred",
   "metadata": {},
   "outputs": [],
   "source": [
    "directory = \"/Users/michaeljehl/Desktop/Projects/DSA/data/\"\n",
    "\n",
    "df = pd.DataFrame()\n",
    "\n",
    "for file in os.listdir(directory):\n",
    "    # only keep header from first file in data directory\n",
    "    if file == os.listdir(directory)[0]:\n",
    "        df = df.append(pd.read_csv(directory + file, header=4))\n",
    "    else:\n",
    "        df = df.append(pd.read_csv(directory + file, skiprows=[0,1,2,3,4]))"
   ]
  },
  {
   "cell_type": "code",
   "execution_count": 26,
   "id": "tamil-diary",
   "metadata": {},
   "outputs": [
    {
     "data": {
      "text/html": [
       "<div>\n",
       "<style scoped>\n",
       "    .dataframe tbody tr th:only-of-type {\n",
       "        vertical-align: middle;\n",
       "    }\n",
       "\n",
       "    .dataframe tbody tr th {\n",
       "        vertical-align: top;\n",
       "    }\n",
       "\n",
       "    .dataframe thead th {\n",
       "        text-align: right;\n",
       "    }\n",
       "</style>\n",
       "<table border=\"1\" class=\"dataframe\">\n",
       "  <thead>\n",
       "    <tr style=\"text-align: right;\">\n",
       "      <th></th>\n",
       "      <th>TYPE</th>\n",
       "      <th>DATE</th>\n",
       "      <th>START TIME</th>\n",
       "      <th>END TIME</th>\n",
       "      <th>USAGE</th>\n",
       "      <th>UNITS</th>\n",
       "      <th>COST</th>\n",
       "      <th>NOTES</th>\n",
       "    </tr>\n",
       "  </thead>\n",
       "  <tbody>\n",
       "    <tr>\n",
       "      <th>0</th>\n",
       "      <td>Electric usage</td>\n",
       "      <td>2020-05-13</td>\n",
       "      <td>00:00</td>\n",
       "      <td>00:29</td>\n",
       "      <td>0.07</td>\n",
       "      <td>kWh</td>\n",
       "      <td>$0.01</td>\n",
       "      <td>NaN</td>\n",
       "    </tr>\n",
       "    <tr>\n",
       "      <th>1</th>\n",
       "      <td>Electric usage</td>\n",
       "      <td>2020-05-13</td>\n",
       "      <td>00:30</td>\n",
       "      <td>00:59</td>\n",
       "      <td>0.12</td>\n",
       "      <td>kWh</td>\n",
       "      <td>$0.01</td>\n",
       "      <td>NaN</td>\n",
       "    </tr>\n",
       "    <tr>\n",
       "      <th>2</th>\n",
       "      <td>Electric usage</td>\n",
       "      <td>2020-05-13</td>\n",
       "      <td>01:00</td>\n",
       "      <td>01:29</td>\n",
       "      <td>0.07</td>\n",
       "      <td>kWh</td>\n",
       "      <td>$0.01</td>\n",
       "      <td>NaN</td>\n",
       "    </tr>\n",
       "    <tr>\n",
       "      <th>3</th>\n",
       "      <td>Electric usage</td>\n",
       "      <td>2020-05-13</td>\n",
       "      <td>01:30</td>\n",
       "      <td>01:59</td>\n",
       "      <td>0.09</td>\n",
       "      <td>kWh</td>\n",
       "      <td>$0.01</td>\n",
       "      <td>NaN</td>\n",
       "    </tr>\n",
       "    <tr>\n",
       "      <th>4</th>\n",
       "      <td>Electric usage</td>\n",
       "      <td>2020-05-13</td>\n",
       "      <td>02:00</td>\n",
       "      <td>02:29</td>\n",
       "      <td>0.09</td>\n",
       "      <td>kWh</td>\n",
       "      <td>$0.01</td>\n",
       "      <td>NaN</td>\n",
       "    </tr>\n",
       "  </tbody>\n",
       "</table>\n",
       "</div>"
      ],
      "text/plain": [
       "             TYPE        DATE START TIME END TIME  USAGE UNITS   COST NOTES\n",
       "0  Electric usage  2020-05-13      00:00    00:29   0.07   kWh  $0.01   NaN\n",
       "1  Electric usage  2020-05-13      00:30    00:59   0.12   kWh  $0.01   NaN\n",
       "2  Electric usage  2020-05-13      01:00    01:29   0.07   kWh  $0.01   NaN\n",
       "3  Electric usage  2020-05-13      01:30    01:59   0.09   kWh  $0.01   NaN\n",
       "4  Electric usage  2020-05-13      02:00    02:29   0.09   kWh  $0.01   NaN"
      ]
     },
     "execution_count": 26,
     "metadata": {},
     "output_type": "execute_result"
    }
   ],
   "source": [
    "df.head()"
   ]
  },
  {
   "cell_type": "code",
   "execution_count": 27,
   "id": "measured-christianity",
   "metadata": {},
   "outputs": [
    {
     "data": {
      "text/plain": [
       "(34267, 8)"
      ]
     },
     "execution_count": 27,
     "metadata": {},
     "output_type": "execute_result"
    }
   ],
   "source": [
    "df.shape"
   ]
  },
  {
   "cell_type": "markdown",
   "id": "ideal-dakota",
   "metadata": {},
   "source": [
    "***Why is 5/13/2020 at the start of the df? Check min and max values to make sure all dates are in df***"
   ]
  },
  {
   "cell_type": "code",
   "execution_count": 41,
   "id": "alpha-royal",
   "metadata": {},
   "outputs": [
    {
     "data": {
      "text/plain": [
       "('2019-05-13', '2021-04-24')"
      ]
     },
     "execution_count": 41,
     "metadata": {},
     "output_type": "execute_result"
    }
   ],
   "source": [
    "min(df.DATE), max(df.DATE)"
   ]
  },
  {
   "cell_type": "markdown",
   "id": "incoming-train",
   "metadata": {},
   "source": [
    "**All dates are in df. Sort by DATE and START TIME**"
   ]
  },
  {
   "cell_type": "code",
   "execution_count": 52,
   "id": "general-miniature",
   "metadata": {},
   "outputs": [],
   "source": [
    "df.sort_values(by=['DATE', 'START TIME'], inplace=True, ignore_index=True)"
   ]
  },
  {
   "cell_type": "code",
   "execution_count": 53,
   "id": "perceived-trauma",
   "metadata": {},
   "outputs": [
    {
     "data": {
      "text/html": [
       "<div>\n",
       "<style scoped>\n",
       "    .dataframe tbody tr th:only-of-type {\n",
       "        vertical-align: middle;\n",
       "    }\n",
       "\n",
       "    .dataframe tbody tr th {\n",
       "        vertical-align: top;\n",
       "    }\n",
       "\n",
       "    .dataframe thead th {\n",
       "        text-align: right;\n",
       "    }\n",
       "</style>\n",
       "<table border=\"1\" class=\"dataframe\">\n",
       "  <thead>\n",
       "    <tr style=\"text-align: right;\">\n",
       "      <th></th>\n",
       "      <th>TYPE</th>\n",
       "      <th>DATE</th>\n",
       "      <th>START TIME</th>\n",
       "      <th>END TIME</th>\n",
       "      <th>USAGE</th>\n",
       "      <th>UNITS</th>\n",
       "      <th>COST</th>\n",
       "      <th>NOTES</th>\n",
       "    </tr>\n",
       "  </thead>\n",
       "  <tbody>\n",
       "    <tr>\n",
       "      <th>0</th>\n",
       "      <td>Electric usage</td>\n",
       "      <td>2019-05-13</td>\n",
       "      <td>00:00</td>\n",
       "      <td>00:29</td>\n",
       "      <td>0.07</td>\n",
       "      <td>kWh</td>\n",
       "      <td>$0.01</td>\n",
       "      <td>NaN</td>\n",
       "    </tr>\n",
       "    <tr>\n",
       "      <th>1</th>\n",
       "      <td>Electric usage</td>\n",
       "      <td>2019-05-13</td>\n",
       "      <td>00:30</td>\n",
       "      <td>00:59</td>\n",
       "      <td>0.06</td>\n",
       "      <td>kWh</td>\n",
       "      <td>$0.01</td>\n",
       "      <td>NaN</td>\n",
       "    </tr>\n",
       "    <tr>\n",
       "      <th>2</th>\n",
       "      <td>Electric usage</td>\n",
       "      <td>2019-05-13</td>\n",
       "      <td>01:00</td>\n",
       "      <td>01:29</td>\n",
       "      <td>0.09</td>\n",
       "      <td>kWh</td>\n",
       "      <td>$0.01</td>\n",
       "      <td>NaN</td>\n",
       "    </tr>\n",
       "    <tr>\n",
       "      <th>3</th>\n",
       "      <td>Electric usage</td>\n",
       "      <td>2019-05-13</td>\n",
       "      <td>01:30</td>\n",
       "      <td>01:59</td>\n",
       "      <td>0.09</td>\n",
       "      <td>kWh</td>\n",
       "      <td>$0.01</td>\n",
       "      <td>NaN</td>\n",
       "    </tr>\n",
       "    <tr>\n",
       "      <th>4</th>\n",
       "      <td>Electric usage</td>\n",
       "      <td>2019-05-13</td>\n",
       "      <td>02:00</td>\n",
       "      <td>02:29</td>\n",
       "      <td>0.07</td>\n",
       "      <td>kWh</td>\n",
       "      <td>$0.01</td>\n",
       "      <td>NaN</td>\n",
       "    </tr>\n",
       "  </tbody>\n",
       "</table>\n",
       "</div>"
      ],
      "text/plain": [
       "             TYPE        DATE START TIME END TIME  USAGE UNITS   COST NOTES\n",
       "0  Electric usage  2019-05-13      00:00    00:29   0.07   kWh  $0.01   NaN\n",
       "1  Electric usage  2019-05-13      00:30    00:59   0.06   kWh  $0.01   NaN\n",
       "2  Electric usage  2019-05-13      01:00    01:29   0.09   kWh  $0.01   NaN\n",
       "3  Electric usage  2019-05-13      01:30    01:59   0.09   kWh  $0.01   NaN\n",
       "4  Electric usage  2019-05-13      02:00    02:29   0.07   kWh  $0.01   NaN"
      ]
     },
     "execution_count": 53,
     "metadata": {},
     "output_type": "execute_result"
    }
   ],
   "source": [
    "df.head()"
   ]
  },
  {
   "cell_type": "code",
   "execution_count": 54,
   "id": "constant-reporter",
   "metadata": {},
   "outputs": [
    {
     "data": {
      "text/html": [
       "<div>\n",
       "<style scoped>\n",
       "    .dataframe tbody tr th:only-of-type {\n",
       "        vertical-align: middle;\n",
       "    }\n",
       "\n",
       "    .dataframe tbody tr th {\n",
       "        vertical-align: top;\n",
       "    }\n",
       "\n",
       "    .dataframe thead th {\n",
       "        text-align: right;\n",
       "    }\n",
       "</style>\n",
       "<table border=\"1\" class=\"dataframe\">\n",
       "  <thead>\n",
       "    <tr style=\"text-align: right;\">\n",
       "      <th></th>\n",
       "      <th>TYPE</th>\n",
       "      <th>DATE</th>\n",
       "      <th>START TIME</th>\n",
       "      <th>END TIME</th>\n",
       "      <th>USAGE</th>\n",
       "      <th>UNITS</th>\n",
       "      <th>COST</th>\n",
       "      <th>NOTES</th>\n",
       "    </tr>\n",
       "  </thead>\n",
       "  <tbody>\n",
       "    <tr>\n",
       "      <th>34262</th>\n",
       "      <td>Electric usage</td>\n",
       "      <td>2021-04-24</td>\n",
       "      <td>21:30</td>\n",
       "      <td>21:59</td>\n",
       "      <td>0.13</td>\n",
       "      <td>kWh</td>\n",
       "      <td>NaN</td>\n",
       "      <td>NaN</td>\n",
       "    </tr>\n",
       "    <tr>\n",
       "      <th>34263</th>\n",
       "      <td>Electric usage</td>\n",
       "      <td>2021-04-24</td>\n",
       "      <td>22:00</td>\n",
       "      <td>22:29</td>\n",
       "      <td>0.11</td>\n",
       "      <td>kWh</td>\n",
       "      <td>NaN</td>\n",
       "      <td>NaN</td>\n",
       "    </tr>\n",
       "    <tr>\n",
       "      <th>34264</th>\n",
       "      <td>Electric usage</td>\n",
       "      <td>2021-04-24</td>\n",
       "      <td>22:30</td>\n",
       "      <td>22:59</td>\n",
       "      <td>0.14</td>\n",
       "      <td>kWh</td>\n",
       "      <td>NaN</td>\n",
       "      <td>NaN</td>\n",
       "    </tr>\n",
       "    <tr>\n",
       "      <th>34265</th>\n",
       "      <td>Electric usage</td>\n",
       "      <td>2021-04-24</td>\n",
       "      <td>23:00</td>\n",
       "      <td>23:29</td>\n",
       "      <td>0.12</td>\n",
       "      <td>kWh</td>\n",
       "      <td>NaN</td>\n",
       "      <td>NaN</td>\n",
       "    </tr>\n",
       "    <tr>\n",
       "      <th>34266</th>\n",
       "      <td>Electric usage</td>\n",
       "      <td>2021-04-24</td>\n",
       "      <td>23:30</td>\n",
       "      <td>23:59</td>\n",
       "      <td>0.10</td>\n",
       "      <td>kWh</td>\n",
       "      <td>NaN</td>\n",
       "      <td>NaN</td>\n",
       "    </tr>\n",
       "  </tbody>\n",
       "</table>\n",
       "</div>"
      ],
      "text/plain": [
       "                 TYPE        DATE START TIME END TIME  USAGE UNITS COST NOTES\n",
       "34262  Electric usage  2021-04-24      21:30    21:59   0.13   kWh  NaN   NaN\n",
       "34263  Electric usage  2021-04-24      22:00    22:29   0.11   kWh  NaN   NaN\n",
       "34264  Electric usage  2021-04-24      22:30    22:59   0.14   kWh  NaN   NaN\n",
       "34265  Electric usage  2021-04-24      23:00    23:29   0.12   kWh  NaN   NaN\n",
       "34266  Electric usage  2021-04-24      23:30    23:59   0.10   kWh  NaN   NaN"
      ]
     },
     "execution_count": 54,
     "metadata": {},
     "output_type": "execute_result"
    }
   ],
   "source": [
    "df.tail()"
   ]
  },
  {
   "cell_type": "markdown",
   "id": "immediate-prairie",
   "metadata": {},
   "source": [
    "## Clean the data - first pass\n",
    "### Remove duplicate rows"
   ]
  },
  {
   "cell_type": "code",
   "execution_count": 61,
   "id": "exterior-bradford",
   "metadata": {},
   "outputs": [
    {
     "name": "stdout",
     "output_type": "stream",
     "text": [
      "<class 'pandas.core.frame.DataFrame'>\n",
      "RangeIndex: 34267 entries, 0 to 34266\n",
      "Data columns (total 8 columns):\n",
      " #   Column      Non-Null Count  Dtype  \n",
      "---  ------      --------------  -----  \n",
      " 0   TYPE        34267 non-null  object \n",
      " 1   DATE        34267 non-null  object \n",
      " 2   START TIME  34267 non-null  object \n",
      " 3   END TIME    34267 non-null  object \n",
      " 4   USAGE       34267 non-null  float64\n",
      " 5   UNITS       34267 non-null  object \n",
      " 6   COST        34219 non-null  object \n",
      " 7   NOTES       24 non-null     object \n",
      "dtypes: float64(1), object(7)\n",
      "memory usage: 2.1+ MB\n"
     ]
    }
   ],
   "source": [
    "df.info()"
   ]
  },
  {
   "cell_type": "markdown",
   "id": "peripheral-cutting",
   "metadata": {},
   "source": [
    "**Missing values in COST column, examine values existing in NOTES, examine values with no USAGE, identify any duplicate carryovers from merging the two data files (handle duplicates here, other issues in next notebook)**"
   ]
  },
  {
   "cell_type": "code",
   "execution_count": 63,
   "id": "quantitative-solid",
   "metadata": {},
   "outputs": [],
   "source": [
    "# drops duplicate rows based on all columns\n",
    "df.drop_duplicates(inplace=True)"
   ]
  },
  {
   "cell_type": "code",
   "execution_count": 64,
   "id": "copyrighted-acrylic",
   "metadata": {},
   "outputs": [
    {
     "data": {
      "text/plain": [
       "(34218, 8)"
      ]
     },
     "execution_count": 64,
     "metadata": {},
     "output_type": "execute_result"
    }
   ],
   "source": [
    "df.shape"
   ]
  },
  {
   "cell_type": "code",
   "execution_count": 66,
   "id": "promotional-preservation",
   "metadata": {},
   "outputs": [],
   "source": [
    "df.reset_index(drop=True, inplace=True)"
   ]
  },
  {
   "cell_type": "code",
   "execution_count": 72,
   "id": "demographic-grenada",
   "metadata": {},
   "outputs": [
    {
     "data": {
      "text/html": [
       "<div>\n",
       "<style scoped>\n",
       "    .dataframe tbody tr th:only-of-type {\n",
       "        vertical-align: middle;\n",
       "    }\n",
       "\n",
       "    .dataframe tbody tr th {\n",
       "        vertical-align: top;\n",
       "    }\n",
       "\n",
       "    .dataframe thead th {\n",
       "        text-align: right;\n",
       "    }\n",
       "</style>\n",
       "<table border=\"1\" class=\"dataframe\">\n",
       "  <thead>\n",
       "    <tr style=\"text-align: right;\">\n",
       "      <th></th>\n",
       "      <th>TYPE</th>\n",
       "      <th>DATE</th>\n",
       "      <th>START TIME</th>\n",
       "      <th>END TIME</th>\n",
       "      <th>USAGE</th>\n",
       "      <th>UNITS</th>\n",
       "      <th>COST</th>\n",
       "      <th>NOTES</th>\n",
       "    </tr>\n",
       "  </thead>\n",
       "  <tbody>\n",
       "    <tr>\n",
       "      <th>0</th>\n",
       "      <td>Electric usage</td>\n",
       "      <td>2019-05-13</td>\n",
       "      <td>00:00</td>\n",
       "      <td>00:29</td>\n",
       "      <td>0.07</td>\n",
       "      <td>kWh</td>\n",
       "      <td>$0.01</td>\n",
       "      <td>NaN</td>\n",
       "    </tr>\n",
       "    <tr>\n",
       "      <th>1</th>\n",
       "      <td>Electric usage</td>\n",
       "      <td>2019-05-13</td>\n",
       "      <td>00:30</td>\n",
       "      <td>00:59</td>\n",
       "      <td>0.06</td>\n",
       "      <td>kWh</td>\n",
       "      <td>$0.01</td>\n",
       "      <td>NaN</td>\n",
       "    </tr>\n",
       "    <tr>\n",
       "      <th>2</th>\n",
       "      <td>Electric usage</td>\n",
       "      <td>2019-05-13</td>\n",
       "      <td>01:00</td>\n",
       "      <td>01:29</td>\n",
       "      <td>0.09</td>\n",
       "      <td>kWh</td>\n",
       "      <td>$0.01</td>\n",
       "      <td>NaN</td>\n",
       "    </tr>\n",
       "    <tr>\n",
       "      <th>3</th>\n",
       "      <td>Electric usage</td>\n",
       "      <td>2019-05-13</td>\n",
       "      <td>01:30</td>\n",
       "      <td>01:59</td>\n",
       "      <td>0.09</td>\n",
       "      <td>kWh</td>\n",
       "      <td>$0.01</td>\n",
       "      <td>NaN</td>\n",
       "    </tr>\n",
       "    <tr>\n",
       "      <th>4</th>\n",
       "      <td>Electric usage</td>\n",
       "      <td>2019-05-13</td>\n",
       "      <td>02:00</td>\n",
       "      <td>02:29</td>\n",
       "      <td>0.07</td>\n",
       "      <td>kWh</td>\n",
       "      <td>$0.01</td>\n",
       "      <td>NaN</td>\n",
       "    </tr>\n",
       "  </tbody>\n",
       "</table>\n",
       "</div>"
      ],
      "text/plain": [
       "             TYPE        DATE START TIME END TIME  USAGE UNITS   COST NOTES\n",
       "0  Electric usage  2019-05-13      00:00    00:29   0.07   kWh  $0.01   NaN\n",
       "1  Electric usage  2019-05-13      00:30    00:59   0.06   kWh  $0.01   NaN\n",
       "2  Electric usage  2019-05-13      01:00    01:29   0.09   kWh  $0.01   NaN\n",
       "3  Electric usage  2019-05-13      01:30    01:59   0.09   kWh  $0.01   NaN\n",
       "4  Electric usage  2019-05-13      02:00    02:29   0.07   kWh  $0.01   NaN"
      ]
     },
     "execution_count": 72,
     "metadata": {},
     "output_type": "execute_result"
    }
   ],
   "source": [
    "df.head()"
   ]
  },
  {
   "cell_type": "code",
   "execution_count": 73,
   "id": "featured-cyprus",
   "metadata": {},
   "outputs": [
    {
     "data": {
      "text/html": [
       "<div>\n",
       "<style scoped>\n",
       "    .dataframe tbody tr th:only-of-type {\n",
       "        vertical-align: middle;\n",
       "    }\n",
       "\n",
       "    .dataframe tbody tr th {\n",
       "        vertical-align: top;\n",
       "    }\n",
       "\n",
       "    .dataframe thead th {\n",
       "        text-align: right;\n",
       "    }\n",
       "</style>\n",
       "<table border=\"1\" class=\"dataframe\">\n",
       "  <thead>\n",
       "    <tr style=\"text-align: right;\">\n",
       "      <th></th>\n",
       "      <th>TYPE</th>\n",
       "      <th>DATE</th>\n",
       "      <th>START TIME</th>\n",
       "      <th>END TIME</th>\n",
       "      <th>USAGE</th>\n",
       "      <th>UNITS</th>\n",
       "      <th>COST</th>\n",
       "      <th>NOTES</th>\n",
       "    </tr>\n",
       "  </thead>\n",
       "  <tbody>\n",
       "    <tr>\n",
       "      <th>34213</th>\n",
       "      <td>Electric usage</td>\n",
       "      <td>2021-04-24</td>\n",
       "      <td>21:30</td>\n",
       "      <td>21:59</td>\n",
       "      <td>0.13</td>\n",
       "      <td>kWh</td>\n",
       "      <td>NaN</td>\n",
       "      <td>NaN</td>\n",
       "    </tr>\n",
       "    <tr>\n",
       "      <th>34214</th>\n",
       "      <td>Electric usage</td>\n",
       "      <td>2021-04-24</td>\n",
       "      <td>22:00</td>\n",
       "      <td>22:29</td>\n",
       "      <td>0.11</td>\n",
       "      <td>kWh</td>\n",
       "      <td>NaN</td>\n",
       "      <td>NaN</td>\n",
       "    </tr>\n",
       "    <tr>\n",
       "      <th>34215</th>\n",
       "      <td>Electric usage</td>\n",
       "      <td>2021-04-24</td>\n",
       "      <td>22:30</td>\n",
       "      <td>22:59</td>\n",
       "      <td>0.14</td>\n",
       "      <td>kWh</td>\n",
       "      <td>NaN</td>\n",
       "      <td>NaN</td>\n",
       "    </tr>\n",
       "    <tr>\n",
       "      <th>34216</th>\n",
       "      <td>Electric usage</td>\n",
       "      <td>2021-04-24</td>\n",
       "      <td>23:00</td>\n",
       "      <td>23:29</td>\n",
       "      <td>0.12</td>\n",
       "      <td>kWh</td>\n",
       "      <td>NaN</td>\n",
       "      <td>NaN</td>\n",
       "    </tr>\n",
       "    <tr>\n",
       "      <th>34217</th>\n",
       "      <td>Electric usage</td>\n",
       "      <td>2021-04-24</td>\n",
       "      <td>23:30</td>\n",
       "      <td>23:59</td>\n",
       "      <td>0.10</td>\n",
       "      <td>kWh</td>\n",
       "      <td>NaN</td>\n",
       "      <td>NaN</td>\n",
       "    </tr>\n",
       "  </tbody>\n",
       "</table>\n",
       "</div>"
      ],
      "text/plain": [
       "                 TYPE        DATE START TIME END TIME  USAGE UNITS COST NOTES\n",
       "34213  Electric usage  2021-04-24      21:30    21:59   0.13   kWh  NaN   NaN\n",
       "34214  Electric usage  2021-04-24      22:00    22:29   0.11   kWh  NaN   NaN\n",
       "34215  Electric usage  2021-04-24      22:30    22:59   0.14   kWh  NaN   NaN\n",
       "34216  Electric usage  2021-04-24      23:00    23:29   0.12   kWh  NaN   NaN\n",
       "34217  Electric usage  2021-04-24      23:30    23:59   0.10   kWh  NaN   NaN"
      ]
     },
     "execution_count": 73,
     "metadata": {},
     "output_type": "execute_result"
    }
   ],
   "source": [
    "df.tail()"
   ]
  },
  {
   "cell_type": "markdown",
   "id": "crucial-truth",
   "metadata": {},
   "source": [
    "Confirmed duplicates were dropped and index was reset.<br><br>Pickle df and continue data cleaning in new notebook"
   ]
  },
  {
   "cell_type": "code",
   "execution_count": 86,
   "id": "painted-graph",
   "metadata": {},
   "outputs": [],
   "source": [
    "df.to_pickle(\"AMI_data_joined.pkl\")"
   ]
  }
 ],
 "metadata": {
  "kernelspec": {
   "display_name": "Python 3",
   "language": "python",
   "name": "python3"
  },
  "language_info": {
   "codemirror_mode": {
    "name": "ipython",
    "version": 3
   },
   "file_extension": ".py",
   "mimetype": "text/x-python",
   "name": "python",
   "nbconvert_exporter": "python",
   "pygments_lexer": "ipython3",
   "version": "3.8.6"
  }
 },
 "nbformat": 4,
 "nbformat_minor": 5
}
